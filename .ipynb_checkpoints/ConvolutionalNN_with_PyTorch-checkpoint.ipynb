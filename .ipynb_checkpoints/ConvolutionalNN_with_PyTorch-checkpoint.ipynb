{
 "cells": [
  {
   "cell_type": "markdown",
   "metadata": {},
   "source": [
    "# Convolutional Neural Networks with PyTorch\n",
    "\n",
    "by Héctor Ramírez\n",
    "\n",
    "<hr>\n",
    "\n",
    "In this notebook, we construct two Convolutional Neural Networks (CNN) for image classification, using the <a href='https://pytorch.org'><b>PyTorch</b></a> library. Among the advantages of using PyTorch - instead of Keras or TensorFlow - we can mention:\n",
    "<ul>\n",
    "    <li> Easy to use. </li>\n",
    "    <li> Strong GPU support. </li>\n",
    "    <li> Strong object oriented programming (OOP) support, which is a natural choice for several companies as, <i>e.g.</i>, FaceBook.\n",
    "</ul>\n",
    "\n",
    "For these exercises, we will use the <a href='http://www.cs.toronto.edu/~kriz/cifar.html'><b>CIFAR-10</b></a> dataset which consists of 60000 32x32 colour images in 10 classes, with 6000 images per class. There are 50000 training images and 10000 test images. The dataset is divided into five training batches and one test batch, each with 10000 images. The test batch contains exactly 1000 randomly-selected images from each class. The training batches contain the remaining images in random order, but some training batches may contain more images from one class than another. Between them, the training batches contain exactly 5000 images from each class.\n",
    "\n",
    "<hr>"
   ]
  },
  {
   "cell_type": "code",
   "execution_count": 1,
   "metadata": {},
   "outputs": [],
   "source": [
    "import torch\n",
    "import torch.nn as nn\n",
    "import torchvision\n",
    "import torchvision.transforms as transforms\n",
    "import torch.nn.functional as F\n",
    "import torch.optim as optim"
   ]
  },
  {
   "cell_type": "markdown",
   "metadata": {},
   "source": [
    "<hr>\n",
    "The dataset is included in the <code>torchvision.datasets</code> library and thus can be downloaded locally. Here, we downlowad both the training and tests sets and construct the train and test loaders following the specified transformation in order to prepare the data for training.\n",
    "<hr>"
   ]
  },
  {
   "cell_type": "code",
   "execution_count": 2,
   "metadata": {},
   "outputs": [
    {
     "name": "stdout",
     "output_type": "stream",
     "text": [
      "Files already downloaded and verified\n",
      "Files already downloaded and verified\n"
     ]
    }
   ],
   "source": [
    "transform = transforms.Compose([transforms.ToTensor(), \n",
    "                                transforms.Normalize((0.5, 0.5, 0.5), (0.5, 0.5, 0.5))])\n",
    "\n",
    "trainset = torchvision.datasets.CIFAR10(root='./data', train=True, download=True, transform=transform)\n",
    "trainloader = torch.utils.data.DataLoader(trainset, batch_size=128, shuffle=True, num_workers=2)\n",
    "\n",
    "testset = torchvision.datasets.CIFAR10(root='./data', train=False, download=True, transform=transform)\n",
    "testloader = torch.utils.data.DataLoader(testset, batch_size=128, shuffle=False, num_workers=2)"
   ]
  },
  {
   "cell_type": "markdown",
   "metadata": {},
   "source": [
    "<hr>\n",
    "We can inspect the images thanks to an accompanion script taken from <a href='https://github.com/deep-diver/CIFAR10-img-classification-tensorflow/blob/master/CIFAR10_image_classification.ipynb'>this</a> repository. Choosing an arbitrary batch and sample, it provides the number of samples in the batch, the count number of values of each type in the batch, the range of values for the image and its label.\n",
    "<hr>"
   ]
  },
  {
   "cell_type": "code",
   "execution_count": 15,
   "metadata": {},
   "outputs": [
    {
     "name": "stdout",
     "output_type": "stream",
     "text": [
      "\n",
      "Stats of batch #2:\n",
      "# of Samples: 10000\n",
      "\n",
      "Label Counts of [0](AIRPLANE) : 984\n",
      "Label Counts of [1](AUTOMOBILE) : 1007\n",
      "Label Counts of [2](BIRD) : 1010\n",
      "Label Counts of [3](CAT) : 995\n",
      "Label Counts of [4](DEER) : 1010\n",
      "Label Counts of [5](DOG) : 988\n",
      "Label Counts of [6](FROG) : 1008\n",
      "Label Counts of [7](HORSE) : 1026\n",
      "Label Counts of [8](SHIP) : 987\n",
      "Label Counts of [9](TRUCK) : 985\n",
      "\n",
      "Example of Image 6145:\n",
      "Image - Min Value: 0 Max Value: 255\n",
      "Image - Shape: (32, 32, 3)\n",
      "Label - Label Id: 7 Name: horse\n"
     ]
    },
    {
     "data": {
      "image/png": "[encoded data removed]",
      "text/plain": [
       "<Figure size 432x288 with 1 Axes>"
      ]
     },
     "metadata": {
      "needs_background": "light"
     },
     "output_type": "display_data"
    }
   ],
   "source": [
    "from Images import display_stats\n",
    "import numpy as np\n",
    "\n",
    "cifar10_dataset_folder_path = './data/cifar-10-batches-py'\n",
    "batch_id = np.random.randint(1, 6)\n",
    "sample_id = np.random.randint(10000)\n",
    "display_stats(cifar10_dataset_folder_path, batch_id, sample_id)"
   ]
  },
  {
   "cell_type": "markdown",
   "metadata": {},
   "source": [
    "<hr>\n",
    "\n",
    "## Image classification\n",
    "\n",
    "We will construct two CNNs where we will use MaxPooling as feature selector and ReLU as activation function. First we will construct a simple and fast network with two convolutional and one linear layers; and then, a more complex network, using the <code>.Sequential()</code> module, with three convolutional layers, three fully-connected linear layers, batch normalization and L2 regularization.\n",
    "<br><br>\n",
    "The recipe for the CNN would be:\n",
    "<ol>\n",
    "    <li>Declare convolutional (and fully-connected linear) layers with arbitrarily increasing output channels.</li>\n",
    "    <li>Do forward pass.</li>\n",
    "    <li>Calculate the loss function.</li>\n",
    "    <li>Calculate the gradients using backward propagation.</li>\n",
    "    <li>Update the parameters based on the gradients (<code>optimizer.step()</code> method).</li>\n",
    "</ol>\n",
    "\n",
    "### Network 1:\n",
    "The first CNN consists of: \n",
    "<ul>\n",
    "    <li>Two convolutional layers of size 3 with padding.</li>\n",
    "    <li>ReLU activation and MaxPooling after each convolutional layer.</li>\n",
    "    <li>Finally, a fully-connected Linear layer.</li>\n",
    "</ul>\n",
    "Given that we are working with the PyTorch library, we construct the network in a <code>class</code> module where we declare the convolutional and linear layer and then we define the forward pass method.\n",
    "<hr>"
   ]
  },
  {
   "cell_type": "code",
   "execution_count": 4,
   "metadata": {},
   "outputs": [],
   "source": [
    "# Network 1\n",
    "class Net(nn.Module):\n",
    "    def __init__(self, num_classes=10):\n",
    "        super(Net, self).__init__()\n",
    "        self.conv1 = nn.Conv2d(in_channels=3, out_channels=32, kernel_size=3, padding=1)\n",
    "        self.conv2 = nn.Conv2d(in_channels=32, out_channels=64, kernel_size=3, padding=1)\n",
    "        self.pool = nn.MaxPool2d(2, 2)\n",
    "        self.fc = nn.Linear(64 * 8 * 8, num_classes)\n",
    "\n",
    "    def forward(self, x):\n",
    "        x = self.pool(F.relu(self.conv1(x)))\n",
    "        x = self.pool(F.relu(self.conv2(x)))\n",
    "        # Squeeze the three spatial dimensions in one\n",
    "        x = x.view(-1, 64 * 8 * 8)\n",
    "        return self.fc(x)"
   ]
  },
  {
   "cell_type": "markdown",
   "metadata": {},
   "source": [
    "<hr>\n",
    "We then instantiate the network and define the Loss function, <code>.CrossEntropyLoss()</code> in this case; the optimizer, <code>.Adam()</code>, with a specific learning rate.\n",
    "<br<br>\n",
    "Then we train the network using the train loader.\n",
    "<hr>"
   ]
  },
  {
   "cell_type": "code",
   "execution_count": 5,
   "metadata": {},
   "outputs": [
    {
     "name": "stdout",
     "output_type": "stream",
     "text": [
      "Finished Training\n"
     ]
    }
   ],
   "source": [
    "net = Net()\n",
    "criterion = nn.CrossEntropyLoss()\n",
    "optimizer = optim.Adam(net.parameters(), lr=3e-4)\n",
    "\n",
    "for epoch in range(10):\n",
    "    for i, data in enumerate(trainloader, 0):\n",
    "        # Get the inputs\n",
    "        inputs, labels = data\n",
    "        # Zero the parameter gradients\n",
    "        optimizer.zero_grad()\n",
    "        # Forward + backward + optimize\n",
    "        outputs = net(inputs)\n",
    "        loss = criterion(outputs, labels)\n",
    "        loss.backward()\n",
    "        optimizer.step()\n",
    "\n",
    "print('Finished Training')"
   ]
  },
  {
   "cell_type": "markdown",
   "metadata": {},
   "source": [
    "<hr>\n",
    "Once it finished training, we test it using the test loader and print the accuracy of this network.\n",
    "<hr>"
   ]
  },
  {
   "cell_type": "code",
   "execution_count": 6,
   "metadata": {},
   "outputs": [
    {
     "name": "stdout",
     "output_type": "stream",
     "text": [
      "The testing set accuracy of the network is: 67 %\n"
     ]
    }
   ],
   "source": [
    "correct, total = 0, 0\n",
    "predictions = []\n",
    "net.eval()\n",
    "\n",
    "for i, data in enumerate(testloader, 0):\n",
    "    inputs, labels = data\n",
    "    outputs = net(inputs)\n",
    "    _, predicted = torch.max(outputs.data, 1)\n",
    "    predictions.append(outputs)\n",
    "    total += labels.size(0)\n",
    "    correct += (predicted == labels).sum().item()\n",
    "\n",
    "print('The testing set accuracy of the network is: %d %%' % (100 * correct / total))"
   ]
  },
  {
   "cell_type": "markdown",
   "metadata": {},
   "source": [
    "<hr>\n",
    "\n",
    "### Network 2:\n",
    "The second CNN consists of: \n",
    "<ul>\n",
    "    <li>Three convolutional layers of size 3 with padding.</li>\n",
    "    <li>ReLU activation, MaxPooling and batch normalization after each convolutional layer.</li>\n",
    "    <li>Three fully-connected Linear layers with ReLU activation.</li>\n",
    "</ul>\n",
    "To make the architecture simpler, we make use of the <code>.Sequential()</code> module. We define the forward pass method as usual.\n",
    "<hr>"
   ]
  },
  {
   "cell_type": "code",
   "execution_count": 7,
   "metadata": {},
   "outputs": [],
   "source": [
    "# Network 2:\n",
    "class Netb(nn.Module):\n",
    "    def __init__(self, num_classes=10):\n",
    "        super(Netb, self).__init__()\n",
    "\n",
    "        # Implement the sequential module for feature extraction\n",
    "        self.features = nn.Sequential(\n",
    "            nn.Conv2d(in_channels=3, out_channels=32, kernel_size=3, stride=1, padding=1),\n",
    "            nn.MaxPool2d(2, 2), nn.ReLU(inplace=True), nn.BatchNorm2d(num_features=32),\n",
    "            nn.Conv2d(in_channels=32, out_channels=64, kernel_size=3, stride=1, padding=1),\n",
    "            nn.MaxPool2d(2, 2), nn.ReLU(inplace=True), nn.BatchNorm2d(num_features=64),\n",
    "            nn.Conv2d(in_channels=64, out_channels=128, kernel_size=3, stride=1, padding=1),\n",
    "            nn.MaxPool2d(2, 2), nn.ReLU(inplace=True), nn.BatchNorm2d(num_features=128))\n",
    "\n",
    "        # Implement the fully connected layer for classification\n",
    "        self.fc = nn.Linear(in_features=128 * 4 * 4, out_features=num_classes)\n",
    "        self.classifier = nn.Sequential(nn.Linear(128 * 4 * 4, 1024), nn.ReLU(inplace=True),\n",
    "                                        nn.Linear(1024, 2048), nn.ReLU(inplace=True),\n",
    "                                        nn.Linear(2048, 10))\n",
    "\n",
    "    def forward(self, x):\n",
    "        x = self.features(x)\n",
    "        x = x.view(-1, 128 * 4 * 4)\n",
    "        x = self.classifier(x)\n",
    "\n",
    "        return x"
   ]
  },
  {
   "cell_type": "markdown",
   "metadata": {},
   "source": [
    "<hr>\n",
    "We then again instantiate the new network with now an optimizer with L2 regularization, specified by the <i>weight_decay</i> parameter. Then, we train it.\n",
    "<hr>"
   ]
  },
  {
   "cell_type": "code",
   "execution_count": 8,
   "metadata": {},
   "outputs": [
    {
     "name": "stdout",
     "output_type": "stream",
     "text": [
      "Finished Training\n"
     ]
    }
   ],
   "source": [
    "net = Netb()\n",
    "criterion = nn.CrossEntropyLoss()\n",
    "optimizer = optim.Adam(net.parameters(), lr=3e-4, weight_decay=0.001)\n",
    "\n",
    "for epoch in range(10):\n",
    "    for i, data in enumerate(trainloader, 0):\n",
    "        # Get the inputs\n",
    "        inputs, labels = data\n",
    "        # Zero the parameter gradients\n",
    "        optimizer.zero_grad()\n",
    "        # Forward + backward + optimize\n",
    "        outputs = net(inputs)\n",
    "        loss = criterion(outputs, labels)\n",
    "        loss.backward()\n",
    "        optimizer.step()\n",
    "\n",
    "print('Finished Training')"
   ]
  },
  {
   "cell_type": "markdown",
   "metadata": {},
   "source": [
    "<hr>\n",
    "Once it finished training, we test it using the test loader and print the accuracy of this network.\n",
    "<hr>"
   ]
  },
  {
   "cell_type": "code",
   "execution_count": 9,
   "metadata": {},
   "outputs": [
    {
     "name": "stdout",
     "output_type": "stream",
     "text": [
      "The testing set accuracy of the network is: 71 %\n"
     ]
    }
   ],
   "source": [
    "for i, data in enumerate(testloader, 0):\n",
    "    inputs, labels = data\n",
    "    outputs = net(inputs)\n",
    "    _, predicted = torch.max(outputs.data, 1)\n",
    "    predictions.append(outputs)\n",
    "    total += labels.size(0)\n",
    "    correct += (predicted == labels).sum().item()\n",
    "\n",
    "print('The testing set accuracy of the network is: %d %%' % (100 * correct / total))"
   ]
  },
  {
   "cell_type": "markdown",
   "metadata": {},
   "source": [
    "<hr>\n",
    "For state-of-the-art algorithms with an accuracy well above the ones obtained here, please refer to this <a href='http://rodrigob.github.io/are_we_there_yet/build/classification_datasets_results.html#43494641522d3130'>blog</a>.\n",
    "<hr>"
   ]
  },
  {
   "cell_type": "code",
   "execution_count": null,
   "metadata": {},
   "outputs": [],
   "source": []
  }
 ],
 "metadata": {
  "kernelspec": {
   "display_name": "Python 3",
   "language": "python",
   "name": "python3"
  },
  "language_info": {
   "codemirror_mode": {
    "name": "ipython",
    "version": 3
   },
   "file_extension": ".py",
   "mimetype": "text/x-python",
   "name": "python",
   "nbconvert_exporter": "python",
   "pygments_lexer": "ipython3",
   "version": "3.7.5"
  }
 },
 "nbformat": 4,
 "nbformat_minor": 4
}
